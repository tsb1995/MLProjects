{
 "cells": [
  {
   "cell_type": "markdown",
   "metadata": {},
   "source": [
    "# Covid US Case Data Analasys\n",
    "\n",
    "In this notebook, we will work with the open source [Case Surveilance Public Use Data](https://data.cdc.gov/Case-Surveillance/COVID-19-Case-Surveillance-Public-Use-Data/vbim-akqf  \"CDC Covid Data\") provided by the CDC on COVID-19 patients in the US. The data, as downloaded on 08/12/2020, contains information on 2,668,175 patients across the United States. The patients' names have been removed for privacy, but we are given information on their Sex, Age, Race/Ethnicity, and Fatality Status. We will look at the data broken down by each of these factors and use it to create informative and interesting visuals. "
   ]
  },
  {
   "cell_type": "code",
   "execution_count": 63,
   "metadata": {},
   "outputs": [],
   "source": [
    "import numpy as np\n",
    "import pandas as pd\n",
    "%matplotlib inline\n",
    "import matplotlib.pyplot as plt\n",
    "import seaborn; seaborn.set()\n",
    "from pywaffle import Waffle\n",
    "from sodapy import Socrata"
   ]
  },
  {
   "cell_type": "code",
   "execution_count": 31,
   "metadata": {},
   "outputs": [
    {
     "name": "stderr",
     "output_type": "stream",
     "text": [
      "WARNING:root:Requests made without an app_token will be subject to strict throttling limits.\n"
     ]
    }
   ],
   "source": [
    "# Unauthenticated client only works with public data sets. Note 'None'\n",
    "# in place of application token, and no username or password:\n",
    "client = Socrata(\"data.cdc.gov\", None)\n",
    "\n",
    "# Example authenticated client (needed for non-public datasets):\n",
    "# client = Socrata(data.cdc.gov,\n",
    "#                  MyAppToken,\n",
    "#                  userame=\"user@example.com\",\n",
    "#                  password=\"AFakePassword\")\n",
    "\n",
    "# First 2000 results, returned as JSON from API / converted to Python list of\n",
    "# dictionaries by sodapy.\n",
    "results = client.get(\"vbim-akqf\", limit=10000000)\n",
    "\n",
    "# Convert to pandas DataFrame\n",
    "dfGeneralUS = pd.DataFrame.from_records(results)"
   ]
  },
  {
   "cell_type": "code",
   "execution_count": 32,
   "metadata": {},
   "outputs": [
    {
     "data": {
      "text/plain": [
       "(2668175, 11)"
      ]
     },
     "execution_count": 32,
     "metadata": {},
     "output_type": "execute_result"
    }
   ],
   "source": [
    "dfGeneralUS.shape"
   ]
  },
  {
   "cell_type": "code",
   "execution_count": 33,
   "metadata": {},
   "outputs": [],
   "source": [
    "# dfGeneralUS = pd.read_csv('COVID-19_Case_Surveillance_Public_Use_Data.csv')"
   ]
  },
  {
   "cell_type": "markdown",
   "metadata": {},
   "source": [
    "### Data Cleanup\n",
    "\n",
    "We start by cleaning up the data. Like most real world datasets, this data containts many missing or poorly formatted values. We start by removing features with an overwhelming proportion of NaN values, which includes the Initial Case Report Date and Date of First Positive Specimen Collection. \n",
    "\n",
    "Fortunately the remaining rows containing NaN are so few relative to the massive sample of patients that they can safely be dropped. If the features containing these rows were numerical, then some type of imputation could be more appealing. \n",
    "\n",
    "We then drop features with an overwhelming proportions of 'Missing' values. These are values that were not simply left blank as in NaN values, but rather we marked specifically as 'Missing' by whoever filled in the form. This includes ICU Admission Status, Hospitalization Status, and Presence of Underlying Condition or Comorbidity.\n",
    "\n",
    "Finally, we rename the Features so as to be easier to work with and flesh out the Death Status Feature"
   ]
  },
  {
   "cell_type": "code",
   "execution_count": 34,
   "metadata": {},
   "outputs": [],
   "source": [
    "# Drop columns with too many nan valaues (massive proportions)\n",
    "dfGeneralUS.drop(['pos_spec_dt', 'onset_dt'], axis = 1, inplace = True)\n",
    "# Drop rows with nan values (not enough to be significant to dataset)\n",
    "dfGeneralUS.dropna(inplace=True)\n",
    " # Drop columns with too many 'Missing' values\n",
    "dfGeneralUS.drop(['icu_yn', 'hosp_yn', 'medcond_yn'], axis = 1, inplace = True)\n",
    "# Rename ethnic_group column\n",
    "dfGeneralUS.columns = ['cdc_report_dt', 'current_status', 'sex', 'age_group',\n",
    "       'ethnic_group', 'death_yn']\n",
    "# Fill in missing or unknown death as No (Not a death if not reported as one)\n",
    "filter = ['Missing', 'Unknown']\n",
    "mask = dfGeneralUS['death_yn'].isin(filter)\n",
    "dfGeneralUS.loc[mask ,'death_yn'] = 'No'"
   ]
  },
  {
   "cell_type": "code",
   "execution_count": 67,
   "metadata": {},
   "outputs": [
    {
     "data": {
      "text/html": [
       "<div>\n",
       "<style scoped>\n",
       "    .dataframe tbody tr th:only-of-type {\n",
       "        vertical-align: middle;\n",
       "    }\n",
       "\n",
       "    .dataframe tbody tr th {\n",
       "        vertical-align: top;\n",
       "    }\n",
       "\n",
       "    .dataframe thead th {\n",
       "        text-align: right;\n",
       "    }\n",
       "</style>\n",
       "<table border=\"1\" class=\"dataframe\">\n",
       "  <thead>\n",
       "    <tr style=\"text-align: right;\">\n",
       "      <th></th>\n",
       "      <th>cdc_report_dt</th>\n",
       "      <th>current_status</th>\n",
       "      <th>sex</th>\n",
       "      <th>age_group</th>\n",
       "      <th>ethnic_group</th>\n",
       "      <th>death_yn</th>\n",
       "    </tr>\n",
       "  </thead>\n",
       "  <tbody>\n",
       "    <tr>\n",
       "      <th>0</th>\n",
       "      <td>2020-07-03T00:00:00.000</td>\n",
       "      <td>Laboratory-confirmed case</td>\n",
       "      <td>Female</td>\n",
       "      <td>0 - 9 Years</td>\n",
       "      <td>American Indian/Alaska Native, Non-Hispanic</td>\n",
       "      <td>No</td>\n",
       "    </tr>\n",
       "    <tr>\n",
       "      <th>1</th>\n",
       "      <td>2020-05-27T00:00:00.000</td>\n",
       "      <td>Laboratory-confirmed case</td>\n",
       "      <td>Female</td>\n",
       "      <td>0 - 9 Years</td>\n",
       "      <td>American Indian/Alaska Native, Non-Hispanic</td>\n",
       "      <td>No</td>\n",
       "    </tr>\n",
       "    <tr>\n",
       "      <th>2</th>\n",
       "      <td>2020-06-06T00:00:00.000</td>\n",
       "      <td>Laboratory-confirmed case</td>\n",
       "      <td>Female</td>\n",
       "      <td>0 - 9 Years</td>\n",
       "      <td>American Indian/Alaska Native, Non-Hispanic</td>\n",
       "      <td>No</td>\n",
       "    </tr>\n",
       "    <tr>\n",
       "      <th>3</th>\n",
       "      <td>2020-06-28T00:00:00.000</td>\n",
       "      <td>Laboratory-confirmed case</td>\n",
       "      <td>Female</td>\n",
       "      <td>0 - 9 Years</td>\n",
       "      <td>American Indian/Alaska Native, Non-Hispanic</td>\n",
       "      <td>No</td>\n",
       "    </tr>\n",
       "    <tr>\n",
       "      <th>4</th>\n",
       "      <td>2020-07-06T00:00:00.000</td>\n",
       "      <td>Laboratory-confirmed case</td>\n",
       "      <td>Female</td>\n",
       "      <td>0 - 9 Years</td>\n",
       "      <td>American Indian/Alaska Native, Non-Hispanic</td>\n",
       "      <td>No</td>\n",
       "    </tr>\n",
       "  </tbody>\n",
       "</table>\n",
       "</div>"
      ],
      "text/plain": [
       "             cdc_report_dt             current_status     sex    age_group  \\\n",
       "0  2020-07-03T00:00:00.000  Laboratory-confirmed case  Female  0 - 9 Years   \n",
       "1  2020-05-27T00:00:00.000  Laboratory-confirmed case  Female  0 - 9 Years   \n",
       "2  2020-06-06T00:00:00.000  Laboratory-confirmed case  Female  0 - 9 Years   \n",
       "3  2020-06-28T00:00:00.000  Laboratory-confirmed case  Female  0 - 9 Years   \n",
       "4  2020-07-06T00:00:00.000  Laboratory-confirmed case  Female  0 - 9 Years   \n",
       "\n",
       "                                  ethnic_group death_yn  \n",
       "0  American Indian/Alaska Native, Non-Hispanic       No  \n",
       "1  American Indian/Alaska Native, Non-Hispanic       No  \n",
       "2  American Indian/Alaska Native, Non-Hispanic       No  \n",
       "3  American Indian/Alaska Native, Non-Hispanic       No  \n",
       "4  American Indian/Alaska Native, Non-Hispanic       No  "
      ]
     },
     "metadata": {},
     "output_type": "display_data"
    }
   ],
   "source": [
    "# Get a look at our cleaned up data\n",
    "display(dfGeneralUS.head())"
   ]
  },
  {
   "cell_type": "markdown",
   "metadata": {},
   "source": [
    "### Death Tables\n",
    "Here we organize information from the Death Status feature, in terms of the Total Population, Ethnicity/Race, Age Group, and Sex, into tables"
   ]
  },
  {
   "cell_type": "code",
   "execution_count": 36,
   "metadata": {},
   "outputs": [
    {
     "data": {
      "text/html": [
       "<style  type=\"text/css\" >\n",
       "</style><table id=\"T_75923740_e3e5_11ea_9854_9061aebdbdbf\" ><thead>    <tr>        <th class=\"blank level0\" ></th>        <th class=\"col_heading level0 col0\" >Total</th>        <th class=\"col_heading level0 col1\" >Proportion</th>    </tr></thead><tbody>\n",
       "                <tr>\n",
       "                        <th id=\"T_75923740_e3e5_11ea_9854_9061aebdbdbflevel0_row0\" class=\"row_heading level0 row0\" >Survived</th>\n",
       "                        <td id=\"T_75923740_e3e5_11ea_9854_9061aebdbdbfrow0_col0\" class=\"data row0 col0\" >2554981</td>\n",
       "                        <td id=\"T_75923740_e3e5_11ea_9854_9061aebdbdbfrow0_col1\" class=\"data row0 col1\" >95.76%</td>\n",
       "            </tr>\n",
       "            <tr>\n",
       "                        <th id=\"T_75923740_e3e5_11ea_9854_9061aebdbdbflevel0_row1\" class=\"row_heading level0 row1\" >Died</th>\n",
       "                        <td id=\"T_75923740_e3e5_11ea_9854_9061aebdbdbfrow1_col0\" class=\"data row1 col0\" >113194</td>\n",
       "                        <td id=\"T_75923740_e3e5_11ea_9854_9061aebdbdbfrow1_col1\" class=\"data row1 col1\" >4.24%</td>\n",
       "            </tr>\n",
       "    </tbody></table>"
      ],
      "text/plain": [
       "<pandas.io.formats.style.Styler at 0x264010a37f0>"
      ]
     },
     "execution_count": 36,
     "metadata": {},
     "output_type": "execute_result"
    }
   ],
   "source": [
    "deathValueCounts = dfGeneralUS['death_yn'].value_counts()\n",
    "deathProportions = dfGeneralUS['death_yn'].value_counts(normalize=True)\n",
    "dfOverrallDeath = pd.concat([deathValueCounts, deathProportions], axis='columns')\n",
    "dfOverrallDeath.columns = ['Total', 'Proportion']\n",
    "dfOverrallDeath.index = ['Survived', 'Died']\n",
    "dfOverrallDeath.style.format({'Proportion': '{:.2%}'})"
   ]
  },
  {
   "cell_type": "code",
   "execution_count": 37,
   "metadata": {},
   "outputs": [],
   "source": [
    "# Function to grab value counts and proportions for given column and return as a dataframe\n",
    "\n",
    "def getValueAndProp(column):\n",
    "    dfDeathsUS = dfGeneralUS[dfGeneralUS['death_yn'] == 'Yes']\n",
    "    valueCounts = dfDeathsUS[column].value_counts()\n",
    "    proportions = dfDeathsUS[column].value_counts(normalize=True)\n",
    "    df = pd.concat([valueCounts, proportions], axis='columns')\n",
    "    df.columns = ['Raw Death Count', 'Proportion of Total Deaths']\n",
    "    df.drop('Unknown', axis='rows',inplace=True)\n",
    "    return df"
   ]
  },
  {
   "cell_type": "code",
   "execution_count": 38,
   "metadata": {},
   "outputs": [],
   "source": [
    "DeathByAge = getValueAndProp('age_group')\n",
    "DeathBySex = getValueAndProp('sex')\n",
    "DeathByEthnicity = getValueAndProp('ethnic_group')"
   ]
  },
  {
   "cell_type": "code",
   "execution_count": 68,
   "metadata": {},
   "outputs": [
    {
     "data": {
      "text/html": [
       "<style  type=\"text/css\" >\n",
       "</style><table id=\"T_62722f80_e3e7_11ea_a273_9061aebdbdbf\" ><thead>    <tr>        <th class=\"blank level0\" ></th>        <th class=\"col_heading level0 col0\" >Raw Death Count</th>        <th class=\"col_heading level0 col1\" >Proportion of Total Deaths</th>    </tr></thead><tbody>\n",
       "                <tr>\n",
       "                        <th id=\"T_62722f80_e3e7_11ea_a273_9061aebdbdbflevel0_row0\" class=\"row_heading level0 row0\" >White, Non-Hispanic</th>\n",
       "                        <td id=\"T_62722f80_e3e7_11ea_a273_9061aebdbdbfrow0_col0\" class=\"data row0 col0\" >48,793</td>\n",
       "                        <td id=\"T_62722f80_e3e7_11ea_a273_9061aebdbdbfrow0_col1\" class=\"data row0 col1\" >43.11%</td>\n",
       "            </tr>\n",
       "            <tr>\n",
       "                        <th id=\"T_62722f80_e3e7_11ea_a273_9061aebdbdbflevel0_row1\" class=\"row_heading level0 row1\" >Black, Non-Hispanic</th>\n",
       "                        <td id=\"T_62722f80_e3e7_11ea_a273_9061aebdbdbfrow1_col0\" class=\"data row1 col0\" >21,605</td>\n",
       "                        <td id=\"T_62722f80_e3e7_11ea_a273_9061aebdbdbfrow1_col1\" class=\"data row1 col1\" >19.09%</td>\n",
       "            </tr>\n",
       "            <tr>\n",
       "                        <th id=\"T_62722f80_e3e7_11ea_a273_9061aebdbdbflevel0_row2\" class=\"row_heading level0 row2\" >Hispanic/Latino</th>\n",
       "                        <td id=\"T_62722f80_e3e7_11ea_a273_9061aebdbdbfrow2_col0\" class=\"data row2 col0\" >16,361</td>\n",
       "                        <td id=\"T_62722f80_e3e7_11ea_a273_9061aebdbdbfrow2_col1\" class=\"data row2 col1\" >14.45%</td>\n",
       "            </tr>\n",
       "            <tr>\n",
       "                        <th id=\"T_62722f80_e3e7_11ea_a273_9061aebdbdbflevel0_row3\" class=\"row_heading level0 row3\" >Asian, Non-Hispanic</th>\n",
       "                        <td id=\"T_62722f80_e3e7_11ea_a273_9061aebdbdbfrow3_col0\" class=\"data row3 col0\" >4,943</td>\n",
       "                        <td id=\"T_62722f80_e3e7_11ea_a273_9061aebdbdbfrow3_col1\" class=\"data row3 col1\" >4.37%</td>\n",
       "            </tr>\n",
       "            <tr>\n",
       "                        <th id=\"T_62722f80_e3e7_11ea_a273_9061aebdbdbflevel0_row4\" class=\"row_heading level0 row4\" >Multiple/Other, Non-Hispanic</th>\n",
       "                        <td id=\"T_62722f80_e3e7_11ea_a273_9061aebdbdbfrow4_col0\" class=\"data row4 col0\" >4,593</td>\n",
       "                        <td id=\"T_62722f80_e3e7_11ea_a273_9061aebdbdbfrow4_col1\" class=\"data row4 col1\" >4.06%</td>\n",
       "            </tr>\n",
       "            <tr>\n",
       "                        <th id=\"T_62722f80_e3e7_11ea_a273_9061aebdbdbflevel0_row5\" class=\"row_heading level0 row5\" >American Indian/Alaska Native, Non-Hispanic</th>\n",
       "                        <td id=\"T_62722f80_e3e7_11ea_a273_9061aebdbdbfrow5_col0\" class=\"data row5 col0\" >679</td>\n",
       "                        <td id=\"T_62722f80_e3e7_11ea_a273_9061aebdbdbfrow5_col1\" class=\"data row5 col1\" >0.60%</td>\n",
       "            </tr>\n",
       "            <tr>\n",
       "                        <th id=\"T_62722f80_e3e7_11ea_a273_9061aebdbdbflevel0_row6\" class=\"row_heading level0 row6\" >Native Hawaiian/Other Pacific Islander, Non-Hispanic</th>\n",
       "                        <td id=\"T_62722f80_e3e7_11ea_a273_9061aebdbdbfrow6_col0\" class=\"data row6 col0\" >151</td>\n",
       "                        <td id=\"T_62722f80_e3e7_11ea_a273_9061aebdbdbfrow6_col1\" class=\"data row6 col1\" >0.13%</td>\n",
       "            </tr>\n",
       "    </tbody></table>"
      ],
      "text/plain": [
       "<pandas.io.formats.style.Styler at 0x2645f6c2be0>"
      ]
     },
     "execution_count": 68,
     "metadata": {},
     "output_type": "execute_result"
    }
   ],
   "source": [
    "# Format floating point values to display percentage and add commas to integer values\n",
    "DeathByEthnicity.style.format({'Proportion of Total Deaths': '{:.2%}',\n",
    "                                'Raw Death Count': '{:,}'})"
   ]
  },
  {
   "cell_type": "code",
   "execution_count": 69,
   "metadata": {},
   "outputs": [
    {
     "data": {
      "text/html": [
       "<style  type=\"text/css\" >\n",
       "</style><table id=\"T_62fa1e42_e3e7_11ea_b321_9061aebdbdbf\" ><thead>    <tr>        <th class=\"blank level0\" ></th>        <th class=\"col_heading level0 col0\" >Raw Death Count</th>        <th class=\"col_heading level0 col1\" >Proportion of Total Deaths</th>    </tr></thead><tbody>\n",
       "                <tr>\n",
       "                        <th id=\"T_62fa1e42_e3e7_11ea_b321_9061aebdbdbflevel0_row0\" class=\"row_heading level0 row0\" >80+ Years</th>\n",
       "                        <td id=\"T_62fa1e42_e3e7_11ea_b321_9061aebdbdbfrow0_col0\" class=\"data row0 col0\" >52,057</td>\n",
       "                        <td id=\"T_62fa1e42_e3e7_11ea_b321_9061aebdbdbfrow0_col1\" class=\"data row0 col1\" >45.99%</td>\n",
       "            </tr>\n",
       "            <tr>\n",
       "                        <th id=\"T_62fa1e42_e3e7_11ea_b321_9061aebdbdbflevel0_row1\" class=\"row_heading level0 row1\" >70 - 79 Years</th>\n",
       "                        <td id=\"T_62fa1e42_e3e7_11ea_b321_9061aebdbdbfrow1_col0\" class=\"data row1 col0\" >27,449</td>\n",
       "                        <td id=\"T_62fa1e42_e3e7_11ea_b321_9061aebdbdbfrow1_col1\" class=\"data row1 col1\" >24.25%</td>\n",
       "            </tr>\n",
       "            <tr>\n",
       "                        <th id=\"T_62fa1e42_e3e7_11ea_b321_9061aebdbdbflevel0_row2\" class=\"row_heading level0 row2\" >60 - 69 Years</th>\n",
       "                        <td id=\"T_62fa1e42_e3e7_11ea_b321_9061aebdbdbfrow2_col0\" class=\"data row2 col0\" >18,979</td>\n",
       "                        <td id=\"T_62fa1e42_e3e7_11ea_b321_9061aebdbdbfrow2_col1\" class=\"data row2 col1\" >16.77%</td>\n",
       "            </tr>\n",
       "            <tr>\n",
       "                        <th id=\"T_62fa1e42_e3e7_11ea_b321_9061aebdbdbflevel0_row3\" class=\"row_heading level0 row3\" >50 - 59 Years</th>\n",
       "                        <td id=\"T_62fa1e42_e3e7_11ea_b321_9061aebdbdbfrow3_col0\" class=\"data row3 col0\" >9,190</td>\n",
       "                        <td id=\"T_62fa1e42_e3e7_11ea_b321_9061aebdbdbfrow3_col1\" class=\"data row3 col1\" >8.12%</td>\n",
       "            </tr>\n",
       "            <tr>\n",
       "                        <th id=\"T_62fa1e42_e3e7_11ea_b321_9061aebdbdbflevel0_row4\" class=\"row_heading level0 row4\" >40 - 49 Years</th>\n",
       "                        <td id=\"T_62fa1e42_e3e7_11ea_b321_9061aebdbdbfrow4_col0\" class=\"data row4 col0\" >3,518</td>\n",
       "                        <td id=\"T_62fa1e42_e3e7_11ea_b321_9061aebdbdbfrow4_col1\" class=\"data row4 col1\" >3.11%</td>\n",
       "            </tr>\n",
       "            <tr>\n",
       "                        <th id=\"T_62fa1e42_e3e7_11ea_b321_9061aebdbdbflevel0_row5\" class=\"row_heading level0 row5\" >30 - 39 Years</th>\n",
       "                        <td id=\"T_62fa1e42_e3e7_11ea_b321_9061aebdbdbfrow5_col0\" class=\"data row5 col0\" >1,401</td>\n",
       "                        <td id=\"T_62fa1e42_e3e7_11ea_b321_9061aebdbdbfrow5_col1\" class=\"data row5 col1\" >1.24%</td>\n",
       "            </tr>\n",
       "            <tr>\n",
       "                        <th id=\"T_62fa1e42_e3e7_11ea_b321_9061aebdbdbflevel0_row6\" class=\"row_heading level0 row6\" >20 - 29 Years</th>\n",
       "                        <td id=\"T_62fa1e42_e3e7_11ea_b321_9061aebdbdbfrow6_col0\" class=\"data row6 col0\" >498</td>\n",
       "                        <td id=\"T_62fa1e42_e3e7_11ea_b321_9061aebdbdbfrow6_col1\" class=\"data row6 col1\" >0.44%</td>\n",
       "            </tr>\n",
       "            <tr>\n",
       "                        <th id=\"T_62fa1e42_e3e7_11ea_b321_9061aebdbdbflevel0_row7\" class=\"row_heading level0 row7\" >10 - 19 Years</th>\n",
       "                        <td id=\"T_62fa1e42_e3e7_11ea_b321_9061aebdbdbfrow7_col0\" class=\"data row7 col0\" >54</td>\n",
       "                        <td id=\"T_62fa1e42_e3e7_11ea_b321_9061aebdbdbfrow7_col1\" class=\"data row7 col1\" >0.05%</td>\n",
       "            </tr>\n",
       "            <tr>\n",
       "                        <th id=\"T_62fa1e42_e3e7_11ea_b321_9061aebdbdbflevel0_row8\" class=\"row_heading level0 row8\" >0 - 9 Years</th>\n",
       "                        <td id=\"T_62fa1e42_e3e7_11ea_b321_9061aebdbdbfrow8_col0\" class=\"data row8 col0\" >33</td>\n",
       "                        <td id=\"T_62fa1e42_e3e7_11ea_b321_9061aebdbdbfrow8_col1\" class=\"data row8 col1\" >0.03%</td>\n",
       "            </tr>\n",
       "            <tr>\n",
       "                        <th id=\"T_62fa1e42_e3e7_11ea_b321_9061aebdbdbflevel0_row9\" class=\"row_heading level0 row9\" >NA</th>\n",
       "                        <td id=\"T_62fa1e42_e3e7_11ea_b321_9061aebdbdbfrow9_col0\" class=\"data row9 col0\" >3</td>\n",
       "                        <td id=\"T_62fa1e42_e3e7_11ea_b321_9061aebdbdbfrow9_col1\" class=\"data row9 col1\" >0.00%</td>\n",
       "            </tr>\n",
       "    </tbody></table>"
      ],
      "text/plain": [
       "<pandas.io.formats.style.Styler at 0x2645f2a8dc0>"
      ]
     },
     "execution_count": 69,
     "metadata": {},
     "output_type": "execute_result"
    }
   ],
   "source": [
    "# Format floating point values to be a decimal and display\n",
    "DeathByAge.style.format({'Proportion of Total Deaths': '{:.2%}',\n",
    "                                'Raw Death Count': '{:,}'})"
   ]
  },
  {
   "cell_type": "code",
   "execution_count": 70,
   "metadata": {},
   "outputs": [
    {
     "data": {
      "text/html": [
       "<style  type=\"text/css\" >\n",
       "</style><table id=\"T_63360a81_e3e7_11ea_9a20_9061aebdbdbf\" ><thead>    <tr>        <th class=\"blank level0\" ></th>        <th class=\"col_heading level0 col0\" >Raw Death Count</th>        <th class=\"col_heading level0 col1\" >Proportion of Total Deaths</th>    </tr></thead><tbody>\n",
       "                <tr>\n",
       "                        <th id=\"T_63360a81_e3e7_11ea_9a20_9061aebdbdbflevel0_row0\" class=\"row_heading level0 row0\" >Male</th>\n",
       "                        <td id=\"T_63360a81_e3e7_11ea_9a20_9061aebdbdbfrow0_col0\" class=\"data row0 col0\" >60,473</td>\n",
       "                        <td id=\"T_63360a81_e3e7_11ea_9a20_9061aebdbdbfrow0_col1\" class=\"data row0 col1\" >53.42%</td>\n",
       "            </tr>\n",
       "            <tr>\n",
       "                        <th id=\"T_63360a81_e3e7_11ea_9a20_9061aebdbdbflevel0_row1\" class=\"row_heading level0 row1\" >Female</th>\n",
       "                        <td id=\"T_63360a81_e3e7_11ea_9a20_9061aebdbdbfrow1_col0\" class=\"data row1 col0\" >52,033</td>\n",
       "                        <td id=\"T_63360a81_e3e7_11ea_9a20_9061aebdbdbfrow1_col1\" class=\"data row1 col1\" >45.97%</td>\n",
       "            </tr>\n",
       "            <tr>\n",
       "                        <th id=\"T_63360a81_e3e7_11ea_9a20_9061aebdbdbflevel0_row2\" class=\"row_heading level0 row2\" >Missing</th>\n",
       "                        <td id=\"T_63360a81_e3e7_11ea_9a20_9061aebdbdbfrow2_col0\" class=\"data row2 col0\" >567</td>\n",
       "                        <td id=\"T_63360a81_e3e7_11ea_9a20_9061aebdbdbfrow2_col1\" class=\"data row2 col1\" >0.50%</td>\n",
       "            </tr>\n",
       "            <tr>\n",
       "                        <th id=\"T_63360a81_e3e7_11ea_9a20_9061aebdbdbflevel0_row3\" class=\"row_heading level0 row3\" >Other</th>\n",
       "                        <td id=\"T_63360a81_e3e7_11ea_9a20_9061aebdbdbfrow3_col0\" class=\"data row3 col0\" >1</td>\n",
       "                        <td id=\"T_63360a81_e3e7_11ea_9a20_9061aebdbdbfrow3_col1\" class=\"data row3 col1\" >0.00%</td>\n",
       "            </tr>\n",
       "    </tbody></table>"
      ],
      "text/plain": [
       "<pandas.io.formats.style.Styler at 0x2645f6591c0>"
      ]
     },
     "execution_count": 70,
     "metadata": {},
     "output_type": "execute_result"
    }
   ],
   "source": [
    "# Format floating point values to be a decimal and display\n",
    "DeathBySex.style.format({'Proportion of Total Deaths': '{:.2%}',\n",
    "                                'Raw Death Count': '{:,}'})"
   ]
  },
  {
   "cell_type": "markdown",
   "metadata": {},
   "source": [
    "### Death Charts\n",
    "Here we use the information from our previously organized tables and the Matplotlib / Seaborn libraries to create interesting and informative charts"
   ]
  },
  {
   "cell_type": "code",
   "execution_count": 42,
   "metadata": {},
   "outputs": [],
   "source": [
    "def plotDeathRaw(x, xlabel=None, title=None):\n",
    "    x.plot(ylabel = 'Death Count', xlabel = xlabel, kind='bar', \n",
    "                    figsize=(15,8), title = title)"
   ]
  },
  {
   "cell_type": "code",
   "execution_count": 64,
   "metadata": {},
   "outputs": [
    {
     "data": {
      "image/png": "[encoded data removed]",
      "text/plain": [
       "<Figure size 1080x576 with 1 Axes>"
      ]
     },
     "metadata": {},
     "output_type": "display_data"
    }
   ],
   "source": [
    "# DeathByAge['Raw Death Count'].plot(ylabel = 'Death Count', xlabel = 'Age Group', kind='bar', \n",
    "#                     figsize=(15,8), title = 'Total US Deaths By Age Group')\n",
    "\n",
    "plotDeathRaw(DeathByAge['Raw Death Count'], 'Age Group', 'Total US Deaths By Age Group')"
   ]
  },
  {
   "cell_type": "code",
   "execution_count": 65,
   "metadata": {},
   "outputs": [
    {
     "data": {
      "image/png": "[encoded data removed]",
      "text/plain": [
       "<Figure size 1080x576 with 1 Axes>"
      ]
     },
     "metadata": {},
     "output_type": "display_data"
    }
   ],
   "source": [
    "plotDeathRaw(DeathByEthnicity['Raw Death Count'], 'Race / Ethnicity', 'Total US Deaths By Race / Ethnicity')"
   ]
  },
  {
   "cell_type": "code",
   "execution_count": 66,
   "metadata": {},
   "outputs": [
    {
     "data": {
      "image/png": "[encoded data removed]",
      "text/plain": [
       "<Figure size 1080x576 with 1 Axes>"
      ]
     },
     "metadata": {},
     "output_type": "display_data"
    }
   ],
   "source": [
    "plotDeathRaw(DeathBySex['Raw Death Count'], 'Sex', 'Total US Deaths By Sex')"
   ]
  },
  {
   "cell_type": "code",
   "execution_count": null,
   "metadata": {},
   "outputs": [],
   "source": []
  }
 ],
 "metadata": {
  "kernelspec": {
   "display_name": "Python 3",
   "language": "python",
   "name": "python3"
  },
  "language_info": {
   "codemirror_mode": {
    "name": "ipython",
    "version": 3
   },
   "file_extension": ".py",
   "mimetype": "text/x-python",
   "name": "python",
   "nbconvert_exporter": "python",
   "pygments_lexer": "ipython3",
   "version": "3.8.5"
  }
 },
 "nbformat": 4,
 "nbformat_minor": 4
}
